{
 "cells": [
  {
   "cell_type": "code",
   "execution_count": 17,
   "id": "809b884f",
   "metadata": {},
   "outputs": [],
   "source": [
    "# To connect your Jupyter notebook and a specific repository in your GitHub account"
   ]
  },
  {
   "cell_type": "code",
   "execution_count": 18,
   "id": "3afff014",
   "metadata": {},
   "outputs": [
    {
     "name": "stdout",
     "output_type": "stream",
     "text": [
      "Reinitialized existing Git repository in /Users/user02/Documents/Notebooks/projects/.git/\r\n"
     ]
    }
   ],
   "source": [
    "\"\"\"\n",
    "1. In GitHub, create a new repository and copy the repository URL.\n",
    "2. In Jupyter notebook, navigate to the directory where you want to create a new notebook or open an existing one.\n",
    "3. From the menu, select File > New Notebook > Python 3 to create a new notebook.\n",
    "4. In the first cell of the notebook, type the following code to initialize a Git repository in the current directory:\n",
    "\"\"\"\n",
    "!git init"
   ]
  },
  {
   "cell_type": "code",
   "execution_count": 19,
   "id": "055d312c",
   "metadata": {},
   "outputs": [
    {
     "name": "stdout",
     "output_type": "stream",
     "text": [
      "error: remote upstream already exists.\r\n"
     ]
    }
   ],
   "source": [
    "# 5. Add your remote repository URL to your local repository using the following command:\n",
    "#!git remote add upstream https://github.com/KwonNayeon/projects.git"
   ]
  },
  {
   "cell_type": "code",
   "execution_count": 21,
   "id": "1a749811",
   "metadata": {},
   "outputs": [
    {
     "ename": "SyntaxError",
     "evalue": "invalid syntax (2719435680.py, line 1)",
     "output_type": "error",
     "traceback": [
      "\u001b[0;36m  File \u001b[0;32m\"/var/folders/2v/y67bw0ns14dgv1d58t7nwsxh0000gn/T/ipykernel_48410/2719435680.py\"\u001b[0;36m, line \u001b[0;32m1\u001b[0m\n\u001b[0;31m    git pull upstream midnights\u001b[0m\n\u001b[0m        ^\u001b[0m\n\u001b[0;31mSyntaxError\u001b[0m\u001b[0;31m:\u001b[0m invalid syntax\n"
     ]
    }
   ],
   "source": [
    "git pull upstream midnights"
   ]
  },
  {
   "cell_type": "code",
   "execution_count": null,
   "id": "7a186778",
   "metadata": {},
   "outputs": [],
   "source": [
    "\"\"\"\n",
    "6. Now, you can add and commit changes to your local repository as usual,\n",
    "using Git commands such as git add, git commit, and git push.\n",
    "For example, to add all files in the current directory to the repository, you can run the following command:\n",
    "\"\"\"\n",
    "!git add ."
   ]
  },
  {
   "cell_type": "code",
   "execution_count": null,
   "id": "7bb0d87b",
   "metadata": {},
   "outputs": [],
   "source": [
    "# 7. After making changes, commit your changes with a message explaining the changes using the following command:\n",
    "!git commit -m \"Add the first R project titled Visualizing Inequalities in Life Expectancy.ipynb\""
   ]
  },
  {
   "cell_type": "code",
   "execution_count": null,
   "id": "a0d0c91d",
   "metadata": {},
   "outputs": [],
   "source": [
    "# Finally, push your changes to the remote repository on GitHub using the following command:\n",
    "!git push -u upstream midnights"
   ]
  },
  {
   "cell_type": "code",
   "execution_count": null,
   "id": "76eda334",
   "metadata": {},
   "outputs": [],
   "source": [
    "\"\"\"\n",
    "- 한 repository의 같은 branch에 Course 1 & Course 2 folder를 연동하려고 시도했을 때 안 됐음\n",
    "- GitHub repository 확인하면 어떤 형식으로 연동되는지 대략 알 수 있음\n",
    "- 다음에 사용할 때 참고할 것\n",
    "\"\"\""
   ]
  }
 ],
 "metadata": {
  "kernelspec": {
   "display_name": "Python 3 (ipykernel)",
   "language": "python",
   "name": "python3"
  },
  "language_info": {
   "codemirror_mode": {
    "name": "ipython",
    "version": 3
   },
   "file_extension": ".py",
   "mimetype": "text/x-python",
   "name": "python",
   "nbconvert_exporter": "python",
   "pygments_lexer": "ipython3",
   "version": "3.9.13"
  }
 },
 "nbformat": 4,
 "nbformat_minor": 5
}
