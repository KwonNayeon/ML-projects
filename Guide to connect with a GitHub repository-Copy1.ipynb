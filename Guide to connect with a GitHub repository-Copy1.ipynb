{
 "cells": [
  {
   "cell_type": "code",
   "execution_count": 80,
   "id": "809b884f",
   "metadata": {},
   "outputs": [],
   "source": [
    "# To connect your Jupyter notebook and a specific repository in your GitHub account"
   ]
  },
  {
   "cell_type": "code",
   "execution_count": 81,
   "id": "3afff014",
   "metadata": {},
   "outputs": [
    {
     "name": "stdout",
     "output_type": "stream",
     "text": [
      "Reinitialized existing Git repository in /Users/user02/Documents/Notebooks/projects/.git/\r\n"
     ]
    }
   ],
   "source": [
    "\"\"\"\n",
    "1. In GitHub, create a new repository and copy the repository URL.\n",
    "2. In Jupyter notebook, navigate to the directory where you want to create a new notebook or open an existing one.\n",
    "3. From the menu, select File > New Notebook > Python 3 to create a new notebook.\n",
    "4. In the first cell of the notebook, type the following code to initialize a Git repository in the current directory:\n",
    "\"\"\"\n",
    "!git init"
   ]
  },
  {
   "cell_type": "code",
   "execution_count": 82,
   "id": "055d312c",
   "metadata": {},
   "outputs": [
    {
     "name": "stdout",
     "output_type": "stream",
     "text": [
      "error: remote upstream already exists.\r\n"
     ]
    }
   ],
   "source": [
    "# 5. Add your remote repository URL to your local repository using the following command:\n",
    "#!git remote add upstream https://github.com/KwonNayeon/projects.git"
   ]
  },
  {
   "cell_type": "code",
   "execution_count": 89,
   "id": "a18d86a5",
   "metadata": {},
   "outputs": [
    {
     "name": "stdout",
     "output_type": "stream",
     "text": [
      "On branch master\n",
      "Changes not staged for commit:\n",
      "  (use \"git add <file>...\" to update what will be committed)\n",
      "  (use \"git restore <file>...\" to discard changes in working directory)\n",
      "\t\u001b[31mmodified:   Guide to connect with a GitHub repository-Copy1.ipynb\u001b[m\n",
      "\n",
      "no changes added to commit (use \"git add\" and/or \"git commit -a\")\n",
      "\u001b[1mdiff --git a/Guide to connect with a GitHub repository-Copy1.ipynb b/Guide to connect with a GitHub repository-Copy1.ipynb\u001b[m\n",
      "\u001b[1mindex 7d8fe7b..358ebf3 100644\u001b[m\n",
      "\u001b[1m--- a/Guide to connect with a GitHub repository-Copy1.ipynb\u001b[m\t\n",
      "\u001b[1m+++ b/Guide to connect with a GitHub repository-Copy1.ipynb\u001b[m\t\n",
      "\u001b[36m@@ -2,7 +2,7 @@\u001b[m\n",
      "  \"cells\": [\u001b[m\n",
      "   {\u001b[m\n",
      "    \"cell_type\": \"code\",\u001b[m\n",
      "\u001b[31m-   \"execution_count\": 64,\u001b[m\n",
      "\u001b[32m+\u001b[m\u001b[32m   \"execution_count\": 80,\u001b[m\n",
      "    \"id\": \"809b884f\",\u001b[m\n",
      "    \"metadata\": {},\u001b[m\n",
      "    \"outputs\": [],\u001b[m\n",
      "\u001b[36m@@ -12,7 +12,7 @@\u001b[m\n",
      "   },\u001b[m\n",
      "   {\u001b[m\n",
      "    \"cell_type\": \"code\",\u001b[m\n",
      "\u001b[31m-   \"execution_count\": 65,\u001b[m\n",
      "\u001b[32m+\u001b[m\u001b[32m   \"execution_count\": 81,\u001b[m\n",
      "    \"id\": \"3afff014\",\u001b[m\n",
      "    \"metadata\": {},\u001b[m\n",
      "    \"outputs\": [\u001b[m\n",
      "\u001b[36m@@ -36,7 +36,7 @@\u001b[m\n",
      "   },\u001b[m\n",
      "   {\u001b[m\n",
      "    \"cell_type\": \"code\",\u001b[m\n",
      "\u001b[31m-   \"execution_count\": 66,\u001b[m\n",
      "\u001b[32m+\u001b[m\u001b[32m   \"execution_count\": 82,\u001b[m\n",
      "    \"id\": \"055d312c\",\u001b[m\n",
      "    \"metadata\": {},\u001b[m\n",
      "    \"outputs\": [\u001b[m\n",
      "\u001b[36m@@ -55,7 +55,7 @@\u001b[m\n",
      "   },\u001b[m\n",
      "   {\u001b[m\n",
      "    \"cell_type\": \"code\",\u001b[m\n",
      "\u001b[31m-   \"execution_count\": 67,\u001b[m\n",
      "\u001b[32m+\u001b[m\u001b[32m   \"execution_count\": 83,\u001b[m\n",
      "    \"id\": \"302a99a3\",\u001b[m\n",
      "    \"metadata\": {},\u001b[m\n",
      "    \"outputs\": [\u001b[m\n",
      "\u001b[36m@@ -87,7 +87,7 @@\u001b[m\n",
      "   },\u001b[m\n",
      "   {\u001b[m\n",
      "    \"cell_type\": \"code\",\u001b[m\n",
      "\u001b[31m-   \"execution_count\": 68,\u001b[m\n",
      "\u001b[32m+\u001b[m\u001b[32m   \"execution_count\": 84,\u001b[m\n",
      "    \"id\": \"7a186778\",\u001b[m\n",
      "    \"metadata\": {},\u001b[m\n",
      "    \"outputs\": [],\u001b[m\n",
      "\u001b[36m@@ -102,7 +102,7 @@\u001b[m\n",
      "   },\u001b[m\n",
      "   {\u001b[m\n",
      "    \"cell_type\": \"code\",\u001b[m\n",
      "\u001b[31m-   \"execution_count\": 69,\u001b[m\n",
      "\u001b[32m+\u001b[m\u001b[32m   \"execution_count\": 85,\u001b[m\n",
      "    \"id\": \"7bb0d87b\",\u001b[m\n",
      "    \"metadata\": {},\u001b[m\n",
      "    \"outputs\": [\u001b[m\n",
      "\u001b[36m@@ -122,7 +122,7 @@\u001b[m\n",
      "   },\u001b[m\n",
      "   {\u001b[m\n",
      "    \"cell_type\": \"code\",\u001b[m\n",
      "\u001b[31m-   \"execution_count\": 70,\u001b[m\n",
      "\u001b[32m+\u001b[m\u001b[32m   \"execution_count\": 86,\u001b[m\n",
      "    \"id\": \"a0d0c91d\",\u001b[m\n",
      "    \"metadata\": {},\u001b[m\n",
      "    \"outputs\": [\u001b[m\n",
      "\u001b[36m@@ -143,7 +143,7 @@\u001b[m\n",
      "   },\u001b[m\n",
      "   {\u001b[m\n",
      "    \"cell_type\": \"code\",\u001b[m\n",
      "\u001b[31m-   \"execution_count\": 71,\u001b[m\n",
      "\u001b[32m+\u001b[m\u001b[32m   \"execution_count\": 87,\u001b[m\n",
      "    \"id\": \"76eda334\",\u001b[m\n",
      "    \"metadata\": {},\u001b[m\n",
      "    \"outputs\": [\u001b[m\n",
      "\u001b[36m@@ -153,7 +153,7 @@\u001b[m\n",
      "        \"'\\\\n- 한 repository의 같은 branch에 Course 1 & Course 2 folder를 연동하려고 시도했을 때 안 됐음\\\\n- GitHub repository 확인하면 어떤 형식으로 연동되는지 대략 알 수 있음\\\\n- 다음에 사용할 때 참고할 것\\\\n'\"\u001b[m\n",
      "       ]\u001b[m\n",
      "      },\u001b[m\n",
      "\u001b[31m-     \"execution_count\": 71,\u001b[m\n",
      "\u001b[32m+\u001b[m\u001b[32m     \"execution_count\": 87,\u001b[m\n",
      "      \"metadata\": {},\u001b[m\n",
      "      \"output_type\": \"execute_result\"\u001b[m\n",
      "     }\u001b[m\n"
     ]
    }
   ],
   "source": [
    "!git status\n",
    "!git diff"
   ]
  },
  {
   "cell_type": "code",
   "execution_count": 83,
   "id": "302a99a3",
   "metadata": {},
   "outputs": [
    {
     "name": "stdout",
     "output_type": "stream",
     "text": [
      "\u001b[33mhint: Pulling without specifying how to reconcile divergent branches is\u001b[m\n",
      "\u001b[33mhint: discouraged. You can squelch this message by running one of the following\u001b[m\n",
      "\u001b[33mhint: commands sometime before your next pull:\u001b[m\n",
      "\u001b[33mhint: \u001b[m\n",
      "\u001b[33mhint:   git config pull.rebase false  # merge (the default strategy)\u001b[m\n",
      "\u001b[33mhint:   git config pull.rebase true   # rebase\u001b[m\n",
      "\u001b[33mhint:   git config pull.ff only       # fast-forward only\u001b[m\n",
      "\u001b[33mhint: \u001b[m\n",
      "\u001b[33mhint: You can replace \"git config\" with \"git config --global\" to set a default\u001b[m\n",
      "\u001b[33mhint: preference for all repositories. You can also pass --rebase, --no-rebase,\u001b[m\n",
      "\u001b[33mhint: or --ff-only on the command line to override the configured default per\u001b[m\n",
      "\u001b[33mhint: invocation.\u001b[m\n",
      "From https://github.com/KwonNayeon/projects\n",
      " * branch            main       -> FETCH_HEAD\n",
      "fatal: refusing to merge unrelated histories\n"
     ]
    }
   ],
   "source": [
    "!git pull upstream main"
   ]
  },
  {
   "cell_type": "code",
   "execution_count": 84,
   "id": "7a186778",
   "metadata": {},
   "outputs": [],
   "source": [
    "\"\"\"\n",
    "6. Now, you can add and commit changes to your local repository as usual,\n",
    "using Git commands such as git add, git commit, and git push.\n",
    "For example, to add all files in the current directory to the repository, you can run the following command:\n",
    "\"\"\"\n",
    "!git add ."
   ]
  },
  {
   "cell_type": "code",
   "execution_count": 85,
   "id": "7bb0d87b",
   "metadata": {},
   "outputs": [
    {
     "name": "stdout",
     "output_type": "stream",
     "text": [
      "On branch master\r\n",
      "nothing to commit, working tree clean\r\n"
     ]
    }
   ],
   "source": [
    "# 7. After making changes, commit your changes with a message explaining the changes using the following command:\n",
    "!git commit -m \"Add the first R project titled Visualizing Inequalities in Life Expectancy.ipynb\""
   ]
  },
  {
   "cell_type": "code",
   "execution_count": 86,
   "id": "a0d0c91d",
   "metadata": {},
   "outputs": [
    {
     "name": "stdout",
     "output_type": "stream",
     "text": [
      "error: src refspec main does not match any\r\n",
      "\u001b[31merror: failed to push some refs to 'https://github.com/KwonNayeon/projects.git'\r\n",
      "\u001b[m"
     ]
    }
   ],
   "source": [
    "# Finally, push your changes to the remote repository on GitHub using the following command:\n",
    "!git push -u upstream main"
   ]
  },
  {
   "cell_type": "code",
   "execution_count": 87,
   "id": "76eda334",
   "metadata": {},
   "outputs": [
    {
     "data": {
      "text/plain": [
       "'\\n- 한 repository의 같은 branch에 Course 1 & Course 2 folder를 연동하려고 시도했을 때 안 됐음\\n- GitHub repository 확인하면 어떤 형식으로 연동되는지 대략 알 수 있음\\n- 다음에 사용할 때 참고할 것\\n'"
      ]
     },
     "execution_count": 87,
     "metadata": {},
     "output_type": "execute_result"
    }
   ],
   "source": [
    "\"\"\"\n",
    "- 한 repository의 같은 branch에 Course 1 & Course 2 folder를 연동하려고 시도했을 때 안 됐음\n",
    "- GitHub repository 확인하면 어떤 형식으로 연동되는지 대략 알 수 있음\n",
    "- 다음에 사용할 때 참고할 것\n",
    "\"\"\""
   ]
  }
 ],
 "metadata": {
  "kernelspec": {
   "display_name": "Python 3 (ipykernel)",
   "language": "python",
   "name": "python3"
  },
  "language_info": {
   "codemirror_mode": {
    "name": "ipython",
    "version": 3
   },
   "file_extension": ".py",
   "mimetype": "text/x-python",
   "name": "python",
   "nbconvert_exporter": "python",
   "pygments_lexer": "ipython3",
   "version": "3.9.13"
  }
 },
 "nbformat": 4,
 "nbformat_minor": 5
}
